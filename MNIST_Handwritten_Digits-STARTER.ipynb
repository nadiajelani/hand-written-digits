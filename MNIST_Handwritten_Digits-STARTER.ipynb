{
 "cells": [
  {
   "cell_type": "markdown",
   "metadata": {},
   "source": [
    "# Introduction\n",
    "\n",
    "In this project, you will build a neural network of your own design to evaluate the MNIST dataset.\n",
    "\n",
    "Some of the benchmark results on MNIST include can be found [on Yann LeCun's page](https://webcache.googleusercontent.com/search?q=cache:stAVPik6onEJ:yann.lecun.com/exdb/mnist) and include:\n",
    "\n",
    "88% [Lecun et al., 1998](https://hal.science/hal-03926082/document)\n",
    "\n",
    "95.3% [Lecun et al., 1998](https://hal.science/hal-03926082v1/document)\n",
    "\n",
    "99.65% [Ciresan et al., 2011](http://people.idsia.ch/~juergen/ijcai2011.pdf)\n",
    "\n",
    "\n",
    "MNIST is a great dataset for sanity checking your models, since the accuracy levels achieved by large convolutional neural networks and small linear models are both quite high. This makes it important to be familiar with the data.\n",
    "\n",
    "## Installation"
   ]
  },
  {
   "cell_type": "code",
   "execution_count": 1,
   "metadata": {},
   "outputs": [],
   "source": [
    "# Update the PATH to include the user installation directory. \n",
    "import os\n",
    "os.environ['PATH'] = f\"{os.environ['PATH']}:/root/.local/bin\"\n",
    "\n",
    "# Restart the Kernel before you move on to the next step."
   ]
  },
  {
   "cell_type": "markdown",
   "metadata": {},
   "source": [
    "#### Important: Restart the Kernel before you move on to the next step."
   ]
  },
  {
   "cell_type": "code",
   "execution_count": 2,
   "metadata": {
    "scrolled": false
   },
   "outputs": [
    {
     "name": "stdout",
     "output_type": "stream",
     "text": [
      "\u001b[33mDEPRECATION: Python 2.7 reached the end of its life on January 1st, 2020. Please upgrade your Python as Python 2.7 is no longer maintained. pip 21.0 will drop support for Python 2.7 in January 2021. More details about Python 2 support in pip can be found at https://pip.pypa.io/en/latest/development/release-process/#python-2-support pip 21.0 will remove support for this functionality.\u001b[0m\n",
      "Defaulting to user installation because normal site-packages is not writeable\n",
      "\u001b[31mERROR: Could not open requirements file: [Errno 2] No such file or directory: 'requirements.txt'\u001b[0m\n",
      "WARNING: pip is being invoked by an old script wrapper. This will fail in a future version of pip.\n",
      "Please see https://github.com/pypa/pip/issues/5599 for advice on fixing the underlying issue.\n",
      "To avoid this problem you can invoke Python with '-m pip' instead of running pip directly.\n",
      "\u001b[33mDEPRECATION: Python 2.7 reached the end of its life on January 1st, 2020. Please upgrade your Python as Python 2.7 is no longer maintained. pip 21.0 will drop support for Python 2.7 in January 2021. More details about Python 2 support in pip can be found at https://pip.pypa.io/en/latest/development/release-process/#python-2-support pip 21.0 will remove support for this functionality.\u001b[0m\n",
      "Defaulting to user installation because normal site-packages is not writeable\n",
      "Requirement already satisfied: ipywidgets in /Users/nadiajelani/Library/Python/2.7/lib/python/site-packages (7.6.5)\n",
      "Requirement already satisfied: nbformat>=4.2.0 in /Users/nadiajelani/Library/Python/2.7/lib/python/site-packages (from ipywidgets) (4.4.0)\n",
      "Requirement already satisfied: ipython<6.0.0,>=4.0.0; python_version < \"3.3\" in /Users/nadiajelani/Library/Python/2.7/lib/python/site-packages (from ipywidgets) (5.10.0)\n",
      "Requirement already satisfied: ipython-genutils~=0.2.0 in /Users/nadiajelani/Library/Python/2.7/lib/python/site-packages (from ipywidgets) (0.2.0)\n",
      "Requirement already satisfied: widgetsnbextension~=3.5.0 in /Users/nadiajelani/Library/Python/2.7/lib/python/site-packages (from ipywidgets) (3.5.2)\n",
      "Requirement already satisfied: traitlets>=4.3.1 in /Users/nadiajelani/Library/Python/2.7/lib/python/site-packages (from ipywidgets) (4.3.3)\n",
      "Requirement already satisfied: ipykernel>=4.5.1 in /Users/nadiajelani/Library/Python/2.7/lib/python/site-packages (from ipywidgets) (4.10.1)\n",
      "Requirement already satisfied: jsonschema!=2.5.0,>=2.4 in /Users/nadiajelani/Library/Python/2.7/lib/python/site-packages (from nbformat>=4.2.0->ipywidgets) (3.2.0)\n",
      "Requirement already satisfied: jupyter-core in /Users/nadiajelani/Library/Python/2.7/lib/python/site-packages (from nbformat>=4.2.0->ipywidgets) (4.6.3)\n",
      "Requirement already satisfied: backports.shutil-get-terminal-size; python_version == \"2.7\" in /Users/nadiajelani/Library/Python/2.7/lib/python/site-packages (from ipython<6.0.0,>=4.0.0; python_version < \"3.3\"->ipywidgets) (1.0.0)\n",
      "Requirement already satisfied: pathlib2; python_version == \"2.7\" or python_version == \"3.3\" in /Users/nadiajelani/Library/Python/2.7/lib/python/site-packages (from ipython<6.0.0,>=4.0.0; python_version < \"3.3\"->ipywidgets) (2.3.7.post1)\n",
      "Requirement already satisfied: prompt-toolkit<2.0.0,>=1.0.4 in /Users/nadiajelani/Library/Python/2.7/lib/python/site-packages (from ipython<6.0.0,>=4.0.0; python_version < \"3.3\"->ipywidgets) (1.0.18)\n",
      "Requirement already satisfied: setuptools>=18.5 in /Users/nadiajelani/Library/Python/2.7/lib/python/site-packages (from ipython<6.0.0,>=4.0.0; python_version < \"3.3\"->ipywidgets) (44.1.1)\n",
      "Requirement already satisfied: pexpect; sys_platform != \"win32\" in /Users/nadiajelani/Library/Python/2.7/lib/python/site-packages (from ipython<6.0.0,>=4.0.0; python_version < \"3.3\"->ipywidgets) (4.9.0)\n",
      "Requirement already satisfied: pygments<2.6 in /Users/nadiajelani/Library/Python/2.7/lib/python/site-packages (from ipython<6.0.0,>=4.0.0; python_version < \"3.3\"->ipywidgets) (2.5.2)\n",
      "Requirement already satisfied: simplegeneric>0.8 in /Users/nadiajelani/Library/Python/2.7/lib/python/site-packages (from ipython<6.0.0,>=4.0.0; python_version < \"3.3\"->ipywidgets) (0.8.1)\n",
      "Requirement already satisfied: decorator in /Library/Python/2.7/site-packages (from ipython<6.0.0,>=4.0.0; python_version < \"3.3\"->ipywidgets) (4.3.0)\n",
      "Requirement already satisfied: pickleshare in /Users/nadiajelani/Library/Python/2.7/lib/python/site-packages (from ipython<6.0.0,>=4.0.0; python_version < \"3.3\"->ipywidgets) (0.7.5)\n",
      "Requirement already satisfied: appnope; sys_platform == \"darwin\" in /Users/nadiajelani/Library/Python/2.7/lib/python/site-packages (from ipython<6.0.0,>=4.0.0; python_version < \"3.3\"->ipywidgets) (0.1.3)\n",
      "Requirement already satisfied: notebook>=4.4.1 in /Users/nadiajelani/Library/Python/2.7/lib/python/site-packages (from widgetsnbextension~=3.5.0->ipywidgets) (5.7.16)\n",
      "Requirement already satisfied: six in /Users/nadiajelani/Library/Python/2.7/lib/python/site-packages (from traitlets>=4.3.1->ipywidgets) (1.16.0)\n",
      "Requirement already satisfied: enum34; python_version == \"2.7\" in /System/Library/Frameworks/Python.framework/Versions/2.7/Extras/lib/python (from traitlets>=4.3.1->ipywidgets) (1.1.6)\n",
      "Requirement already satisfied: jupyter-client in /Users/nadiajelani/Library/Python/2.7/lib/python/site-packages (from ipykernel>=4.5.1->ipywidgets) (5.3.5)\n",
      "Requirement already satisfied: tornado>=4.0 in /Users/nadiajelani/Library/Python/2.7/lib/python/site-packages (from ipykernel>=4.5.1->ipywidgets) (5.1.1)\n",
      "Requirement already satisfied: functools32; python_version < \"3\" in /Users/nadiajelani/Library/Python/2.7/lib/python/site-packages (from jsonschema!=2.5.0,>=2.4->nbformat>=4.2.0->ipywidgets) (3.2.3.post2)\n",
      "Requirement already satisfied: pyrsistent>=0.14.0 in /Users/nadiajelani/Library/Python/2.7/lib/python/site-packages (from jsonschema!=2.5.0,>=2.4->nbformat>=4.2.0->ipywidgets) (0.16.1)\n",
      "Requirement already satisfied: attrs>=17.4.0 in /Users/nadiajelani/Library/Python/2.7/lib/python/site-packages (from jsonschema!=2.5.0,>=2.4->nbformat>=4.2.0->ipywidgets) (21.4.0)\n",
      "Requirement already satisfied: importlib-metadata; python_version < \"3.8\" in /Users/nadiajelani/Library/Python/2.7/lib/python/site-packages (from jsonschema!=2.5.0,>=2.4->nbformat>=4.2.0->ipywidgets) (2.1.3)\n",
      "Requirement already satisfied: typing; python_version < \"3.5\" in /Users/nadiajelani/Library/Python/2.7/lib/python/site-packages (from pathlib2; python_version == \"2.7\" or python_version == \"3.3\"->ipython<6.0.0,>=4.0.0; python_version < \"3.3\"->ipywidgets) (3.10.0.0)\n",
      "Requirement already satisfied: scandir; python_version < \"3.5\" in /Users/nadiajelani/Library/Python/2.7/lib/python/site-packages (from pathlib2; python_version == \"2.7\" or python_version == \"3.3\"->ipython<6.0.0,>=4.0.0; python_version < \"3.3\"->ipywidgets) (1.10.0)\n",
      "Requirement already satisfied: wcwidth in /Users/nadiajelani/Library/Python/2.7/lib/python/site-packages (from prompt-toolkit<2.0.0,>=1.0.4->ipython<6.0.0,>=4.0.0; python_version < \"3.3\"->ipywidgets) (0.2.12)\n",
      "Requirement already satisfied: ptyprocess>=0.5 in /Users/nadiajelani/Library/Python/2.7/lib/python/site-packages (from pexpect; sys_platform != \"win32\"->ipython<6.0.0,>=4.0.0; python_version < \"3.3\"->ipywidgets) (0.7.0)\n",
      "Requirement already satisfied: prometheus-client in /Users/nadiajelani/Library/Python/2.7/lib/python/site-packages (from notebook>=4.4.1->widgetsnbextension~=3.5.0->ipywidgets) (0.12.0)\n",
      "Requirement already satisfied: Send2Trash in /Users/nadiajelani/Library/Python/2.7/lib/python/site-packages (from notebook>=4.4.1->widgetsnbextension~=3.5.0->ipywidgets) (1.8.2)\n",
      "Requirement already satisfied: ipaddress; python_version == \"2.7\" in /System/Library/Frameworks/Python.framework/Versions/2.7/Extras/lib/python (from notebook>=4.4.1->widgetsnbextension~=3.5.0->ipywidgets) (1.0.22)\n",
      "Requirement already satisfied: pyzmq>=17 in /Users/nadiajelani/Library/Python/2.7/lib/python/site-packages (from notebook>=4.4.1->widgetsnbextension~=3.5.0->ipywidgets) (19.0.2)\n",
      "Requirement already satisfied: nbconvert<6.0 in /Users/nadiajelani/Library/Python/2.7/lib/python/site-packages (from notebook>=4.4.1->widgetsnbextension~=3.5.0->ipywidgets) (5.6.1)\n",
      "Requirement already satisfied: terminado>=0.8.1 in /Users/nadiajelani/Library/Python/2.7/lib/python/site-packages (from notebook>=4.4.1->widgetsnbextension~=3.5.0->ipywidgets) (0.8.3)\n",
      "Requirement already satisfied: jinja2<=3.0.0 in /Users/nadiajelani/Library/Python/2.7/lib/python/site-packages (from notebook>=4.4.1->widgetsnbextension~=3.5.0->ipywidgets) (2.11.3)\n",
      "Requirement already satisfied: python-dateutil>=2.1 in /Library/Python/2.7/site-packages (from jupyter-client->ipykernel>=4.5.1->ipywidgets) (2.5.3)\n",
      "Requirement already satisfied: backports-abc>=0.4 in /Users/nadiajelani/Library/Python/2.7/lib/python/site-packages (from tornado>=4.0->ipykernel>=4.5.1->ipywidgets) (0.5)\n",
      "Requirement already satisfied: singledispatch in /Users/nadiajelani/Library/Python/2.7/lib/python/site-packages (from tornado>=4.0->ipykernel>=4.5.1->ipywidgets) (3.7.0)\n",
      "Requirement already satisfied: futures in /Library/Python/2.7/site-packages (from tornado>=4.0->ipykernel>=4.5.1->ipywidgets) (3.0.5)\n",
      "Requirement already satisfied: contextlib2; python_version < \"3\" in /Users/nadiajelani/Library/Python/2.7/lib/python/site-packages (from importlib-metadata; python_version < \"3.8\"->jsonschema!=2.5.0,>=2.4->nbformat>=4.2.0->ipywidgets) (0.6.0.post1)\n",
      "Requirement already satisfied: zipp>=0.5 in /Users/nadiajelani/Library/Python/2.7/lib/python/site-packages (from importlib-metadata; python_version < \"3.8\"->jsonschema!=2.5.0,>=2.4->nbformat>=4.2.0->ipywidgets) (1.2.0)\n",
      "Requirement already satisfied: configparser>=3.5; python_version < \"3\" in /Users/nadiajelani/Library/Python/2.7/lib/python/site-packages (from importlib-metadata; python_version < \"3.8\"->jsonschema!=2.5.0,>=2.4->nbformat>=4.2.0->ipywidgets) (4.0.2)\n",
      "Requirement already satisfied: backports.functools-lru-cache>=1.2.1; python_version < \"3.2\" in /Users/nadiajelani/Library/Python/2.7/lib/python/site-packages (from wcwidth->prompt-toolkit<2.0.0,>=1.0.4->ipython<6.0.0,>=4.0.0; python_version < \"3.3\"->ipywidgets) (1.6.6)\n",
      "Requirement already satisfied: mistune<2,>=0.8.1 in /Users/nadiajelani/Library/Python/2.7/lib/python/site-packages (from nbconvert<6.0->notebook>=4.4.1->widgetsnbextension~=3.5.0->ipywidgets) (0.8.4)\n",
      "Requirement already satisfied: defusedxml in /Users/nadiajelani/Library/Python/2.7/lib/python/site-packages (from nbconvert<6.0->notebook>=4.4.1->widgetsnbextension~=3.5.0->ipywidgets) (0.7.1)\n",
      "Requirement already satisfied: entrypoints>=0.2.2 in /Users/nadiajelani/Library/Python/2.7/lib/python/site-packages (from nbconvert<6.0->notebook>=4.4.1->widgetsnbextension~=3.5.0->ipywidgets) (0.3)\n",
      "Requirement already satisfied: bleach in /Users/nadiajelani/Library/Python/2.7/lib/python/site-packages (from nbconvert<6.0->notebook>=4.4.1->widgetsnbextension~=3.5.0->ipywidgets) (3.3.1)\n",
      "Requirement already satisfied: pandocfilters>=1.4.1 in /Users/nadiajelani/Library/Python/2.7/lib/python/site-packages (from nbconvert<6.0->notebook>=4.4.1->widgetsnbextension~=3.5.0->ipywidgets) (1.5.0)\n",
      "Requirement already satisfied: testpath in /Users/nadiajelani/Library/Python/2.7/lib/python/site-packages (from nbconvert<6.0->notebook>=4.4.1->widgetsnbextension~=3.5.0->ipywidgets) (0.4.4)\n",
      "Requirement already satisfied: MarkupSafe>=0.23 in /Users/nadiajelani/Library/Python/2.7/lib/python/site-packages (from jinja2<=3.0.0->notebook>=4.4.1->widgetsnbextension~=3.5.0->ipywidgets) (1.1.1)\n",
      "Requirement already satisfied: webencodings in /Users/nadiajelani/Library/Python/2.7/lib/python/site-packages (from bleach->nbconvert<6.0->notebook>=4.4.1->widgetsnbextension~=3.5.0->ipywidgets) (0.5.1)\n",
      "Requirement already satisfied: packaging in /Users/nadiajelani/Library/Python/2.7/lib/python/site-packages (from bleach->nbconvert<6.0->notebook>=4.4.1->widgetsnbextension~=3.5.0->ipywidgets) (20.9)\n",
      "Requirement already satisfied: pyparsing>=2.0.2 in /Users/nadiajelani/Library/Python/2.7/lib/python/site-packages (from packaging->bleach->nbconvert<6.0->notebook>=4.4.1->widgetsnbextension~=3.5.0->ipywidgets) (2.4.7)\n"
     ]
    }
   ],
   "source": [
    "# Install requirements\n",
    "!python -m pip install -r requirements.txt\n",
    "!pip install ipywidgets\n"
   ]
  },
  {
   "cell_type": "markdown",
   "metadata": {},
   "source": [
    "## Imports"
   ]
  },
  {
   "cell_type": "code",
   "execution_count": 3,
   "metadata": {},
   "outputs": [
    {
     "name": "stdout",
     "output_type": "stream",
     "text": [
      "WARNING: pip is being invoked by an old script wrapper. This will fail in a future version of pip.\n",
      "Please see https://github.com/pypa/pip/issues/5599 for advice on fixing the underlying issue.\n",
      "To avoid this problem you can invoke Python with '-m pip' instead of running pip directly.\n",
      "\u001b[33mDEPRECATION: Python 2.7 reached the end of its life on January 1st, 2020. Please upgrade your Python as Python 2.7 is no longer maintained. pip 21.0 will drop support for Python 2.7 in January 2021. More details about Python 2 support in pip can be found at https://pip.pypa.io/en/latest/development/release-process/#python-2-support pip 21.0 will remove support for this functionality.\u001b[0m\n",
      "Defaulting to user installation because normal site-packages is not writeable\n",
      "Requirement already satisfied: ipywidgets in /Users/nadiajelani/Library/Python/2.7/lib/python/site-packages (7.6.5)\n",
      "Requirement already satisfied: nbformat>=4.2.0 in /Users/nadiajelani/Library/Python/2.7/lib/python/site-packages (from ipywidgets) (4.4.0)\n",
      "Requirement already satisfied: ipython<6.0.0,>=4.0.0; python_version < \"3.3\" in /Users/nadiajelani/Library/Python/2.7/lib/python/site-packages (from ipywidgets) (5.10.0)\n",
      "Requirement already satisfied: ipython-genutils~=0.2.0 in /Users/nadiajelani/Library/Python/2.7/lib/python/site-packages (from ipywidgets) (0.2.0)\n",
      "Requirement already satisfied: widgetsnbextension~=3.5.0 in /Users/nadiajelani/Library/Python/2.7/lib/python/site-packages (from ipywidgets) (3.5.2)\n",
      "Requirement already satisfied: traitlets>=4.3.1 in /Users/nadiajelani/Library/Python/2.7/lib/python/site-packages (from ipywidgets) (4.3.3)\n",
      "Requirement already satisfied: ipykernel>=4.5.1 in /Users/nadiajelani/Library/Python/2.7/lib/python/site-packages (from ipywidgets) (4.10.1)\n",
      "Requirement already satisfied: jsonschema!=2.5.0,>=2.4 in /Users/nadiajelani/Library/Python/2.7/lib/python/site-packages (from nbformat>=4.2.0->ipywidgets) (3.2.0)\n",
      "Requirement already satisfied: jupyter-core in /Users/nadiajelani/Library/Python/2.7/lib/python/site-packages (from nbformat>=4.2.0->ipywidgets) (4.6.3)\n",
      "Requirement already satisfied: backports.shutil-get-terminal-size; python_version == \"2.7\" in /Users/nadiajelani/Library/Python/2.7/lib/python/site-packages (from ipython<6.0.0,>=4.0.0; python_version < \"3.3\"->ipywidgets) (1.0.0)\n",
      "Requirement already satisfied: pathlib2; python_version == \"2.7\" or python_version == \"3.3\" in /Users/nadiajelani/Library/Python/2.7/lib/python/site-packages (from ipython<6.0.0,>=4.0.0; python_version < \"3.3\"->ipywidgets) (2.3.7.post1)\n",
      "Requirement already satisfied: prompt-toolkit<2.0.0,>=1.0.4 in /Users/nadiajelani/Library/Python/2.7/lib/python/site-packages (from ipython<6.0.0,>=4.0.0; python_version < \"3.3\"->ipywidgets) (1.0.18)\n",
      "Requirement already satisfied: setuptools>=18.5 in /Users/nadiajelani/Library/Python/2.7/lib/python/site-packages (from ipython<6.0.0,>=4.0.0; python_version < \"3.3\"->ipywidgets) (44.1.1)\n",
      "Requirement already satisfied: pexpect; sys_platform != \"win32\" in /Users/nadiajelani/Library/Python/2.7/lib/python/site-packages (from ipython<6.0.0,>=4.0.0; python_version < \"3.3\"->ipywidgets) (4.9.0)\n",
      "Requirement already satisfied: pygments<2.6 in /Users/nadiajelani/Library/Python/2.7/lib/python/site-packages (from ipython<6.0.0,>=4.0.0; python_version < \"3.3\"->ipywidgets) (2.5.2)\n",
      "Requirement already satisfied: simplegeneric>0.8 in /Users/nadiajelani/Library/Python/2.7/lib/python/site-packages (from ipython<6.0.0,>=4.0.0; python_version < \"3.3\"->ipywidgets) (0.8.1)\n",
      "Requirement already satisfied: decorator in /Library/Python/2.7/site-packages (from ipython<6.0.0,>=4.0.0; python_version < \"3.3\"->ipywidgets) (4.3.0)\n",
      "Requirement already satisfied: pickleshare in /Users/nadiajelani/Library/Python/2.7/lib/python/site-packages (from ipython<6.0.0,>=4.0.0; python_version < \"3.3\"->ipywidgets) (0.7.5)\n",
      "Requirement already satisfied: appnope; sys_platform == \"darwin\" in /Users/nadiajelani/Library/Python/2.7/lib/python/site-packages (from ipython<6.0.0,>=4.0.0; python_version < \"3.3\"->ipywidgets) (0.1.3)\n",
      "Requirement already satisfied: notebook>=4.4.1 in /Users/nadiajelani/Library/Python/2.7/lib/python/site-packages (from widgetsnbextension~=3.5.0->ipywidgets) (5.7.16)\n",
      "Requirement already satisfied: six in /Users/nadiajelani/Library/Python/2.7/lib/python/site-packages (from traitlets>=4.3.1->ipywidgets) (1.16.0)\n",
      "Requirement already satisfied: enum34; python_version == \"2.7\" in /System/Library/Frameworks/Python.framework/Versions/2.7/Extras/lib/python (from traitlets>=4.3.1->ipywidgets) (1.1.6)\n",
      "Requirement already satisfied: jupyter-client in /Users/nadiajelani/Library/Python/2.7/lib/python/site-packages (from ipykernel>=4.5.1->ipywidgets) (5.3.5)\n",
      "Requirement already satisfied: tornado>=4.0 in /Users/nadiajelani/Library/Python/2.7/lib/python/site-packages (from ipykernel>=4.5.1->ipywidgets) (5.1.1)\n",
      "Requirement already satisfied: functools32; python_version < \"3\" in /Users/nadiajelani/Library/Python/2.7/lib/python/site-packages (from jsonschema!=2.5.0,>=2.4->nbformat>=4.2.0->ipywidgets) (3.2.3.post2)\n",
      "Requirement already satisfied: pyrsistent>=0.14.0 in /Users/nadiajelani/Library/Python/2.7/lib/python/site-packages (from jsonschema!=2.5.0,>=2.4->nbformat>=4.2.0->ipywidgets) (0.16.1)\n",
      "Requirement already satisfied: attrs>=17.4.0 in /Users/nadiajelani/Library/Python/2.7/lib/python/site-packages (from jsonschema!=2.5.0,>=2.4->nbformat>=4.2.0->ipywidgets) (21.4.0)\n",
      "Requirement already satisfied: importlib-metadata; python_version < \"3.8\" in /Users/nadiajelani/Library/Python/2.7/lib/python/site-packages (from jsonschema!=2.5.0,>=2.4->nbformat>=4.2.0->ipywidgets) (2.1.3)\n",
      "Requirement already satisfied: typing; python_version < \"3.5\" in /Users/nadiajelani/Library/Python/2.7/lib/python/site-packages (from pathlib2; python_version == \"2.7\" or python_version == \"3.3\"->ipython<6.0.0,>=4.0.0; python_version < \"3.3\"->ipywidgets) (3.10.0.0)\n",
      "Requirement already satisfied: scandir; python_version < \"3.5\" in /Users/nadiajelani/Library/Python/2.7/lib/python/site-packages (from pathlib2; python_version == \"2.7\" or python_version == \"3.3\"->ipython<6.0.0,>=4.0.0; python_version < \"3.3\"->ipywidgets) (1.10.0)\n",
      "Requirement already satisfied: wcwidth in /Users/nadiajelani/Library/Python/2.7/lib/python/site-packages (from prompt-toolkit<2.0.0,>=1.0.4->ipython<6.0.0,>=4.0.0; python_version < \"3.3\"->ipywidgets) (0.2.12)\n",
      "Requirement already satisfied: ptyprocess>=0.5 in /Users/nadiajelani/Library/Python/2.7/lib/python/site-packages (from pexpect; sys_platform != \"win32\"->ipython<6.0.0,>=4.0.0; python_version < \"3.3\"->ipywidgets) (0.7.0)\n",
      "Requirement already satisfied: prometheus-client in /Users/nadiajelani/Library/Python/2.7/lib/python/site-packages (from notebook>=4.4.1->widgetsnbextension~=3.5.0->ipywidgets) (0.12.0)\n",
      "Requirement already satisfied: Send2Trash in /Users/nadiajelani/Library/Python/2.7/lib/python/site-packages (from notebook>=4.4.1->widgetsnbextension~=3.5.0->ipywidgets) (1.8.2)\n",
      "Requirement already satisfied: ipaddress; python_version == \"2.7\" in /System/Library/Frameworks/Python.framework/Versions/2.7/Extras/lib/python (from notebook>=4.4.1->widgetsnbextension~=3.5.0->ipywidgets) (1.0.22)\n",
      "Requirement already satisfied: pyzmq>=17 in /Users/nadiajelani/Library/Python/2.7/lib/python/site-packages (from notebook>=4.4.1->widgetsnbextension~=3.5.0->ipywidgets) (19.0.2)\n",
      "Requirement already satisfied: nbconvert<6.0 in /Users/nadiajelani/Library/Python/2.7/lib/python/site-packages (from notebook>=4.4.1->widgetsnbextension~=3.5.0->ipywidgets) (5.6.1)\n",
      "Requirement already satisfied: terminado>=0.8.1 in /Users/nadiajelani/Library/Python/2.7/lib/python/site-packages (from notebook>=4.4.1->widgetsnbextension~=3.5.0->ipywidgets) (0.8.3)\n",
      "Requirement already satisfied: jinja2<=3.0.0 in /Users/nadiajelani/Library/Python/2.7/lib/python/site-packages (from notebook>=4.4.1->widgetsnbextension~=3.5.0->ipywidgets) (2.11.3)\n",
      "Requirement already satisfied: python-dateutil>=2.1 in /Library/Python/2.7/site-packages (from jupyter-client->ipykernel>=4.5.1->ipywidgets) (2.5.3)\n",
      "Requirement already satisfied: backports-abc>=0.4 in /Users/nadiajelani/Library/Python/2.7/lib/python/site-packages (from tornado>=4.0->ipykernel>=4.5.1->ipywidgets) (0.5)\n",
      "Requirement already satisfied: singledispatch in /Users/nadiajelani/Library/Python/2.7/lib/python/site-packages (from tornado>=4.0->ipykernel>=4.5.1->ipywidgets) (3.7.0)\n",
      "Requirement already satisfied: futures in /Library/Python/2.7/site-packages (from tornado>=4.0->ipykernel>=4.5.1->ipywidgets) (3.0.5)\n",
      "Requirement already satisfied: contextlib2; python_version < \"3\" in /Users/nadiajelani/Library/Python/2.7/lib/python/site-packages (from importlib-metadata; python_version < \"3.8\"->jsonschema!=2.5.0,>=2.4->nbformat>=4.2.0->ipywidgets) (0.6.0.post1)\n",
      "Requirement already satisfied: zipp>=0.5 in /Users/nadiajelani/Library/Python/2.7/lib/python/site-packages (from importlib-metadata; python_version < \"3.8\"->jsonschema!=2.5.0,>=2.4->nbformat>=4.2.0->ipywidgets) (1.2.0)\n",
      "Requirement already satisfied: configparser>=3.5; python_version < \"3\" in /Users/nadiajelani/Library/Python/2.7/lib/python/site-packages (from importlib-metadata; python_version < \"3.8\"->jsonschema!=2.5.0,>=2.4->nbformat>=4.2.0->ipywidgets) (4.0.2)\n",
      "Requirement already satisfied: backports.functools-lru-cache>=1.2.1; python_version < \"3.2\" in /Users/nadiajelani/Library/Python/2.7/lib/python/site-packages (from wcwidth->prompt-toolkit<2.0.0,>=1.0.4->ipython<6.0.0,>=4.0.0; python_version < \"3.3\"->ipywidgets) (1.6.6)\n",
      "Requirement already satisfied: mistune<2,>=0.8.1 in /Users/nadiajelani/Library/Python/2.7/lib/python/site-packages (from nbconvert<6.0->notebook>=4.4.1->widgetsnbextension~=3.5.0->ipywidgets) (0.8.4)\n",
      "Requirement already satisfied: defusedxml in /Users/nadiajelani/Library/Python/2.7/lib/python/site-packages (from nbconvert<6.0->notebook>=4.4.1->widgetsnbextension~=3.5.0->ipywidgets) (0.7.1)\n",
      "Requirement already satisfied: entrypoints>=0.2.2 in /Users/nadiajelani/Library/Python/2.7/lib/python/site-packages (from nbconvert<6.0->notebook>=4.4.1->widgetsnbextension~=3.5.0->ipywidgets) (0.3)\n",
      "Requirement already satisfied: bleach in /Users/nadiajelani/Library/Python/2.7/lib/python/site-packages (from nbconvert<6.0->notebook>=4.4.1->widgetsnbextension~=3.5.0->ipywidgets) (3.3.1)\n",
      "Requirement already satisfied: pandocfilters>=1.4.1 in /Users/nadiajelani/Library/Python/2.7/lib/python/site-packages (from nbconvert<6.0->notebook>=4.4.1->widgetsnbextension~=3.5.0->ipywidgets) (1.5.0)\n",
      "Requirement already satisfied: testpath in /Users/nadiajelani/Library/Python/2.7/lib/python/site-packages (from nbconvert<6.0->notebook>=4.4.1->widgetsnbextension~=3.5.0->ipywidgets) (0.4.4)\n",
      "Requirement already satisfied: MarkupSafe>=0.23 in /Users/nadiajelani/Library/Python/2.7/lib/python/site-packages (from jinja2<=3.0.0->notebook>=4.4.1->widgetsnbextension~=3.5.0->ipywidgets) (1.1.1)\n",
      "Requirement already satisfied: webencodings in /Users/nadiajelani/Library/Python/2.7/lib/python/site-packages (from bleach->nbconvert<6.0->notebook>=4.4.1->widgetsnbextension~=3.5.0->ipywidgets) (0.5.1)\n",
      "Requirement already satisfied: packaging in /Users/nadiajelani/Library/Python/2.7/lib/python/site-packages (from bleach->nbconvert<6.0->notebook>=4.4.1->widgetsnbextension~=3.5.0->ipywidgets) (20.9)\n",
      "Requirement already satisfied: pyparsing>=2.0.2 in /Users/nadiajelani/Library/Python/2.7/lib/python/site-packages (from packaging->bleach->nbconvert<6.0->notebook>=4.4.1->widgetsnbextension~=3.5.0->ipywidgets) (2.4.7)\n",
      "/bin/bash: jupyter: command not found\n",
      "/bin/bash: jupyter: command not found\n"
     ]
    },
    {
     "name": "stderr",
     "output_type": "stream",
     "text": [
      "/Users/nadiajelani/Desktop/PYTHON/anaconda3/lib/python3.11/site-packages/torchvision/io/image.py:13: UserWarning: Failed to load image Python extension: 'dlopen(/Users/nadiajelani/Desktop/PYTHON/anaconda3/lib/python3.11/site-packages/torchvision/image.so, 6): Symbol not found: __ZN3c106detail19maybe_wrap_dim_slowIxEET_S2_S2_b\n",
      "  Referenced from: /Users/nadiajelani/Desktop/PYTHON/anaconda3/lib/python3.11/site-packages/torchvision/image.so\n",
      "  Expected in: /Users/nadiajelani/Desktop/PYTHON/anaconda3/lib/python3.11/site-packages/torch/lib/libc10.dylib\n",
      " in /Users/nadiajelani/Desktop/PYTHON/anaconda3/lib/python3.11/site-packages/torchvision/image.so'If you don't plan on using image functionality from `torchvision.io`, you can ignore this warning. Otherwise, there might be something wrong with your environment. Did you have `libjpeg` or `libpng` installed before building `torchvision` from source?\n",
      "  warn(\n"
     ]
    }
   ],
   "source": [
    "## This cell contains the essential imports you will need – DO NOT CHANGE THE CONTENTS! ##\n",
    "!pip install ipywidgets\n",
    "\n",
    "!jupyter nbextension enable --py widgetsnbextension --sys-prefix\n",
    "!jupyter nbextension install --py widgetsnbextension --sys-prefiximport torch\n",
    "import torch.nn as nn\n",
    "import torch.nn.functional as F\n",
    "import torch.optim as optim\n",
    "import torchvision\n",
    "import torchvision.transforms as transforms\n",
    "import matplotlib.pyplot as plt\n",
    "import numpy as np"
   ]
  },
  {
   "cell_type": "markdown",
   "metadata": {},
   "source": [
    "## Load the Dataset\n",
    "\n",
    "Specify your transforms as a list if you intend to .\n",
    "The transforms module is already loaded as `transforms`.\n",
    "\n",
    "MNIST is fortunately included in the torchvision module.\n",
    "Then, you can create your dataset using the `MNIST` object from `torchvision.datasets` ([the documentation is available here](https://pytorch.org/vision/stable/datasets.html#mnist)).\n",
    "Make sure to specify `download=True`! \n",
    "\n",
    "Once your dataset is created, you'll also need to define a `DataLoader` from the `torch.utils.data` module for both the train and the test set."
   ]
  },
  {
   "cell_type": "code",
   "execution_count": 4,
   "metadata": {},
   "outputs": [
    {
     "name": "stdout",
     "output_type": "stream",
     "text": [
      "Downloading http://yann.lecun.com/exdb/mnist/train-images-idx3-ubyte.gz\n",
      "Failed to download (trying next):\n",
      "HTTP Error 403: Forbidden\n",
      "\n",
      "Downloading https://ossci-datasets.s3.amazonaws.com/mnist/train-images-idx3-ubyte.gz\n",
      "Downloading https://ossci-datasets.s3.amazonaws.com/mnist/train-images-idx3-ubyte.gz to data/MNIST/raw/train-images-idx3-ubyte.gz\n"
     ]
    },
    {
     "data": {
      "application/vnd.jupyter.widget-view+json": {
       "model_id": "bfba7f54538a444ca1c884353fec310a",
       "version_major": 2,
       "version_minor": 0
      },
      "text/plain": [
       "  0%|          | 0/9912422 [00:00<?, ?it/s]"
      ]
     },
     "metadata": {},
     "output_type": "display_data"
    },
    {
     "name": "stdout",
     "output_type": "stream",
     "text": [
      "Extracting data/MNIST/raw/train-images-idx3-ubyte.gz to data/MNIST/raw\n",
      "\n",
      "Downloading http://yann.lecun.com/exdb/mnist/train-labels-idx1-ubyte.gz\n",
      "Failed to download (trying next):\n",
      "HTTP Error 403: Forbidden\n",
      "\n",
      "Downloading https://ossci-datasets.s3.amazonaws.com/mnist/train-labels-idx1-ubyte.gz\n",
      "Downloading https://ossci-datasets.s3.amazonaws.com/mnist/train-labels-idx1-ubyte.gz to data/MNIST/raw/train-labels-idx1-ubyte.gz\n"
     ]
    },
    {
     "data": {
      "application/vnd.jupyter.widget-view+json": {
       "model_id": "9590935203c74df9be320ef24525ec21",
       "version_major": 2,
       "version_minor": 0
      },
      "text/plain": [
       "  0%|          | 0/28881 [00:00<?, ?it/s]"
      ]
     },
     "metadata": {},
     "output_type": "display_data"
    },
    {
     "name": "stdout",
     "output_type": "stream",
     "text": [
      "Extracting data/MNIST/raw/train-labels-idx1-ubyte.gz to data/MNIST/raw\n",
      "\n",
      "Downloading http://yann.lecun.com/exdb/mnist/t10k-images-idx3-ubyte.gz\n",
      "Failed to download (trying next):\n",
      "HTTP Error 403: Forbidden\n",
      "\n",
      "Downloading https://ossci-datasets.s3.amazonaws.com/mnist/t10k-images-idx3-ubyte.gz\n",
      "Downloading https://ossci-datasets.s3.amazonaws.com/mnist/t10k-images-idx3-ubyte.gz to data/MNIST/raw/t10k-images-idx3-ubyte.gz\n"
     ]
    },
    {
     "data": {
      "application/vnd.jupyter.widget-view+json": {
       "model_id": "2abd21aa114049968afd2cdf5aed2d37",
       "version_major": 2,
       "version_minor": 0
      },
      "text/plain": [
       "  0%|          | 0/1648877 [00:00<?, ?it/s]"
      ]
     },
     "metadata": {},
     "output_type": "display_data"
    },
    {
     "name": "stdout",
     "output_type": "stream",
     "text": [
      "Extracting data/MNIST/raw/t10k-images-idx3-ubyte.gz to data/MNIST/raw\n",
      "\n",
      "Downloading http://yann.lecun.com/exdb/mnist/t10k-labels-idx1-ubyte.gz\n",
      "Failed to download (trying next):\n",
      "HTTP Error 403: Forbidden\n",
      "\n",
      "Downloading https://ossci-datasets.s3.amazonaws.com/mnist/t10k-labels-idx1-ubyte.gz\n",
      "Downloading https://ossci-datasets.s3.amazonaws.com/mnist/t10k-labels-idx1-ubyte.gz to data/MNIST/raw/t10k-labels-idx1-ubyte.gz\n"
     ]
    },
    {
     "data": {
      "application/vnd.jupyter.widget-view+json": {
       "model_id": "8c31610a8a5945c69d45b4c2fc262c48",
       "version_major": 2,
       "version_minor": 0
      },
      "text/plain": [
       "  0%|          | 0/4542 [00:00<?, ?it/s]"
      ]
     },
     "metadata": {},
     "output_type": "display_data"
    },
    {
     "name": "stdout",
     "output_type": "stream",
     "text": [
      "Extracting data/MNIST/raw/t10k-labels-idx1-ubyte.gz to data/MNIST/raw\n",
      "\n",
      "Training Dataset:\n",
      "Batch 1 - data shape: torch.Size([64, 1, 28, 28]), target shape: torch.Size([64])\n",
      "\n",
      "Test Dataset:\n",
      "Batch 1 - data shape: torch.Size([1000, 1, 28, 28]), target shape: torch.Size([1000])\n"
     ]
    }
   ],
   "source": [
    "# Import necessary libraries\n",
    "import torch\n",
    "from torchvision import datasets, transforms\n",
    "from torch.utils.data import DataLoader\n",
    "\n",
    "# Define transformations\n",
    "transform = transforms.Compose([\n",
    "    transforms.ToTensor(),\n",
    "    transforms.Normalize((0.1307,), (0.3081,))\n",
    "])\n",
    "\n",
    "# Download and create the training dataset\n",
    "train_dataset = datasets.MNIST(root='data', train=True, download=True, transform=transform)\n",
    "\n",
    "# Download and create the test dataset\n",
    "test_dataset = datasets.MNIST(root='data', train=False, download=True, transform=transform)\n",
    "\n",
    "# Define the DataLoader for the training dataset\n",
    "train_loader = DataLoader(dataset=train_dataset, batch_size=64, shuffle=True)\n",
    "\n",
    "# Define the DataLoader for the test dataset\n",
    "test_loader = DataLoader(dataset=test_dataset, batch_size=1000, shuffle=False)\n",
    "\n",
    "# Example: Iterate through the DataLoader for training dataset\n",
    "print(\"Training Dataset:\")\n",
    "for batch_idx, (data, target) in enumerate(train_loader):\n",
    "    print(f\"Batch {batch_idx + 1} - data shape: {data.shape}, target shape: {target.shape}\")\n",
    "    # Break after first batch for demonstration purposes\n",
    "    break\n",
    "\n",
    "# Example: Iterate through the DataLoader for test dataset\n",
    "print(\"\\nTest Dataset:\")\n",
    "for batch_idx, (data, target) in enumerate(test_loader):\n",
    "    print(f\"Batch {batch_idx + 1} - data shape: {data.shape}, target shape: {target.shape}\")\n",
    "    # Break after the first batch for demonstration purposes\n",
    "    break"
   ]
  },
  {
   "cell_type": "markdown",
   "metadata": {},
   "source": [
    "## Justify your preprocessing\n",
    "\n",
    "In your own words, why did you choose the transforms you chose? If you didn't use any preprocessing steps, why not?\n",
    "I chose the specific preprocessing steps for the MNIST dataset to ensure that the data is in the right format and scale for the neural network to learn effectively. The first step, transforms.ToTensor(), converts the images from their original format (PIL Image) to tensors, which are the format that PyTorch can work with. This conversion is necessary because the neural network in PyTorch expects input data to be in tensor form.\n",
    "\n",
    "The second step, transforms.Normalize((0.1307,), (0.3081,)), adjusts the pixel values of the images to have a mean of 0.1307 and a standard deviation of 0.3081. These values are the average values for the MNIST dataset. Normalizing the images helps the neural network learn better and faster because it ensures that all pixel values are on a similar scale. This makes the training process more stable and efficient, leading to better performance.\n",
    "\n",
    "Overall, these preprocessing steps are important because they prepare the images in a way that makes it easier for the neural network to learn and make accurate predictions. Without these steps, the model might learn more slowly or perform poorly.\n",
    "\n",
    "\n",
    "\n",
    "\n",
    "\n"
   ]
  },
  {
   "cell_type": "markdown",
   "metadata": {},
   "source": [
    "**DOUBLE CLICK THIS CELL TO MODIFY**"
   ]
  },
  {
   "cell_type": "markdown",
   "metadata": {},
   "source": [
    "## Explore the Dataset\n",
    "Using matplotlib, numpy, and torch, explore the dimensions of your data.\n",
    "\n",
    "You can view images using the `show5` function defined below – it takes a data loader as an argument.\n",
    "Remember that normalized images will look really weird to you! You may want to try changing your transforms to view images.\n",
    "Typically using no transforms other than `toTensor()` works well for viewing – but not as well for training your network.\n",
    "If `show5` doesn't work, go back and check your code for creating your data loaders and your training/test sets."
   ]
  },
  {
   "cell_type": "code",
   "execution_count": 5,
   "metadata": {},
   "outputs": [],
   "source": [
    "def show5(img_loader):\n",
    "    dataiter = iter(img_loader)\n",
    "    \n",
    "    batch = next(dataiter)\n",
    "    labels = batch[1][0:5]\n",
    "    images = batch[0][0:5]\n",
    "    for i in range(5):\n",
    "        print(int(labels[i].detach()))\n",
    "    \n",
    "        image = images[i].numpy()\n",
    "        plt.imshow(image.T.squeeze().T)\n",
    "        plt.show()"
   ]
  },
  {
   "cell_type": "code",
   "execution_count": 7,
   "metadata": {},
   "outputs": [
    {
     "name": "stderr",
     "output_type": "stream",
     "text": [
      "Clipping input data to the valid range for imshow with RGB data ([0..1] for floats or [0..255] for integers).\n"
     ]
    },
    {
     "data": {
      "image/png": "[encoded data removed]",
      "text/plain": [
       "<Figure size 640x480 with 1 Axes>"
      ]
     },
     "metadata": {},
     "output_type": "display_data"
    },
    {
     "name": "stdout",
     "output_type": "stream",
     "text": [
      "    3     4     0     3     5     8     0     7\n",
      "Training data shape: torch.Size([60000, 28, 28])\n",
      "Training labels shape: torch.Size([60000])\n",
      "Data type: torch.uint8\n",
      "Label type: torch.int64\n"
     ]
    },
    {
     "data": {
      "image/png": "[encoded data removed]",
      "text/plain": [
       "<Figure size 1000x500 with 1 Axes>"
      ]
     },
     "metadata": {},
     "output_type": "display_data"
    }
   ],
   "source": [
    "# Explore data\n",
    "import torch\n",
    "import torchvision\n",
    "import torchvision.transforms as transforms\n",
    "from torch.utils.data import DataLoader\n",
    "import matplotlib.pyplot as plt\n",
    "\n",
    "# Specify your transforms as a list\n",
    "transform = transforms.Compose([\n",
    "    transforms.ToTensor(),\n",
    "    transforms.Normalize((0.1307,), (0.3081,))  # Normalization for MNIST dataset\n",
    "])\n",
    "\n",
    "# Create the training set and define the training DataLoader\n",
    "train_dataset = torchvision.datasets.MNIST(root='data', train=True, download=True, transform=transform)\n",
    "train_loader = DataLoader(dataset=train_dataset, batch_size=64, shuffle=True)\n",
    "\n",
    "# Create the test set and define the test DataLoader\n",
    "test_dataset = torchvision.datasets.MNIST(root='data', train=False, download=True, transform=transform)\n",
    "test_loader = DataLoader(dataset=test_dataset, batch_size=1000, shuffle=False)\n",
    "\n",
    "# Function to show an image\n",
    "def show_image(img):\n",
    "    img = img / 2 + 0.5  # unnormalize\n",
    "    npimg = img.numpy()\n",
    "    plt.imshow(np.transpose(npimg, (1, 2, 0)))\n",
    "    plt.show()\n",
    "\n",
    "# Function to explore the data\n",
    "def explore_data(loader):\n",
    "    # Get a batch of training data\n",
    "    dataiter = iter(loader)\n",
    "    images, labels = dataiter.__next__()\n",
    "\n",
    "    # Show images\n",
    "    show_image(torchvision.utils.make_grid(images))\n",
    "\n",
    "    # Print labels\n",
    "    print(' '.join('%5s' % labels[j].item() for j in range(8)))\n",
    "\n",
    "# Explore the training data\n",
    "explore_data(train_loader)\n",
    "\n",
    "# Display dataset statistics\n",
    "print(f'Training data shape: {train_dataset.data.shape}')\n",
    "print(f'Training labels shape: {train_dataset.targets.shape}')\n",
    "print(f'Data type: {train_dataset.data.dtype}')\n",
    "print(f'Label type: {train_dataset.targets.dtype}')\n",
    "\n",
    "# Visualize the distribution of labels in the training dataset\n",
    "def visualize_label_distribution(dataset):\n",
    "    plt.figure(figsize=(10, 5))\n",
    "    plt.hist(dataset.targets.numpy(), bins=range(11), align='left', rwidth=0.8)\n",
    "    plt.xticks(range(10))\n",
    "    plt.xlabel('Label')\n",
    "    plt.ylabel('Frequency')\n",
    "    plt.title('Distribution of Labels in the Training Dataset')\n",
    "    plt.show()\n",
    "\n",
    "visualize_label_distribution(train_dataset)"
   ]
  },
  {
   "cell_type": "markdown",
   "metadata": {},
   "source": [
    "## Build your Neural Network\n",
    "Using the layers in `torch.nn` (which has been imported as `nn`) and the `torch.nn.functional` module (imported as `F`), construct a neural network based on the parameters of the dataset.\n",
    "Use any architecture you like. \n",
    "\n",
    "*Note*: If you did not flatten your tensors in your transforms or as part of your preprocessing and you are using only `Linear` layers, make sure to use the `Flatten` layer in your network!"
   ]
  },
  {
   "cell_type": "code",
   "execution_count": 8,
   "metadata": {},
   "outputs": [
    {
     "name": "stdout",
     "output_type": "stream",
     "text": [
      "SimpleNN(\n",
      "  (flatten): Flatten(start_dim=1, end_dim=-1)\n",
      "  (fc1): Linear(in_features=784, out_features=128, bias=True)\n",
      "  (fc2): Linear(in_features=128, out_features=64, bias=True)\n",
      "  (fc3): Linear(in_features=64, out_features=10, bias=True)\n",
      ")\n"
     ]
    }
   ],
   "source": [
    "## YOUR CODE HERE ##\n",
    "import torch.nn as nn\n",
    "import torch.nn.functional as F\n",
    "import torch.optim as optim\n",
    "\n",
    "# Define the neural network architecture\n",
    "class SimpleNN(nn.Module):\n",
    "    def __init__(self):\n",
    "        super(SimpleNN, self).__init__()\n",
    "        self.flatten = nn.Flatten()\n",
    "        self.fc1 = nn.Linear(28*28, 128)\n",
    "        self.fc2 = nn.Linear(128, 64)\n",
    "        self.fc3 = nn.Linear(64, 10)\n",
    "\n",
    "    def forward(self, x):\n",
    "        x = self.flatten(x)\n",
    "        x = F.relu(self.fc1(x))\n",
    "        x = F.relu(self.fc2(x))\n",
    "        x = self.fc3(x)\n",
    "        return F.log_softmax(x, dim=1)\n",
    "\n",
    "# Instantiate the model\n",
    "model = SimpleNN()\n",
    "\n",
    "# Specify a loss function\n",
    "loss_fn = nn.NLLLoss()  # Negative Log-Likelihood Loss is suitable for log probabilities\n",
    "\n",
    "# Specify an optimizer\n",
    "optimizer = optim.Adam(model.parameters(), lr=0.001)  # Adam optimizer with learning rate 0.001\n",
    "\n",
    "print(model)"
   ]
  },
  {
   "cell_type": "markdown",
   "metadata": {},
   "source": [
    "Specify a loss function and an optimizer, and instantiate the model.\n",
    "\n",
    "If you use a less common loss function, please note why you chose that loss function in a comment.\n",
    "\n",
    "The loss function used is nn.NLLLoss(), which is suitable for classification tasks where the output is log probabilities from log_softmax.\n",
    "The Adam optimizer (optim.Adam) is chosen for its adaptive learning rates and efficient performance, which often leads to faster convergence and better results compared to standard gradient descent methods."
   ]
  },
  {
   "cell_type": "code",
   "execution_count": 15,
   "metadata": {
    "scrolled": true
   },
   "outputs": [
    {
     "name": "stdout",
     "output_type": "stream",
     "text": [
      "Train Epoch: 1 [0/60000 (0%)]\tLoss: 0.005576\n",
      "Train Epoch: 1 [6400/60000 (11%)]\tLoss: 0.001742\n",
      "Train Epoch: 1 [12800/60000 (21%)]\tLoss: 0.003078\n",
      "Train Epoch: 1 [19200/60000 (32%)]\tLoss: 0.002681\n",
      "Train Epoch: 1 [25600/60000 (43%)]\tLoss: 0.003489\n",
      "Train Epoch: 1 [32000/60000 (53%)]\tLoss: 0.002791\n",
      "Train Epoch: 1 [38400/60000 (64%)]\tLoss: 0.000649\n",
      "Train Epoch: 1 [44800/60000 (75%)]\tLoss: 0.003602\n",
      "Train Epoch: 1 [51200/60000 (85%)]\tLoss: 0.002800\n",
      "Train Epoch: 1 [57600/60000 (96%)]\tLoss: 0.000824\n",
      "Epoch 1, Average Loss: 0.019115957321211685\n",
      "Train Epoch: 2 [0/60000 (0%)]\tLoss: 0.027369\n",
      "Train Epoch: 2 [6400/60000 (11%)]\tLoss: 0.044466\n",
      "Train Epoch: 2 [12800/60000 (21%)]\tLoss: 0.002811\n",
      "Train Epoch: 2 [19200/60000 (32%)]\tLoss: 0.001370\n",
      "Train Epoch: 2 [25600/60000 (43%)]\tLoss: 0.003028\n",
      "Train Epoch: 2 [32000/60000 (53%)]\tLoss: 0.040772\n",
      "Train Epoch: 2 [38400/60000 (64%)]\tLoss: 0.048753\n",
      "Train Epoch: 2 [44800/60000 (75%)]\tLoss: 0.004984\n",
      "Train Epoch: 2 [51200/60000 (85%)]\tLoss: 0.041423\n",
      "Train Epoch: 2 [57600/60000 (96%)]\tLoss: 0.016800\n",
      "Epoch 2, Average Loss: 0.019348535726752984\n",
      "Train Epoch: 3 [0/60000 (0%)]\tLoss: 0.002433\n",
      "Train Epoch: 3 [6400/60000 (11%)]\tLoss: 0.008582\n",
      "Train Epoch: 3 [12800/60000 (21%)]\tLoss: 0.002750\n",
      "Train Epoch: 3 [19200/60000 (32%)]\tLoss: 0.018308\n",
      "Train Epoch: 3 [25600/60000 (43%)]\tLoss: 0.008829\n",
      "Train Epoch: 3 [32000/60000 (53%)]\tLoss: 0.004908\n",
      "Train Epoch: 3 [38400/60000 (64%)]\tLoss: 0.046500\n",
      "Train Epoch: 3 [44800/60000 (75%)]\tLoss: 0.000592\n",
      "Train Epoch: 3 [51200/60000 (85%)]\tLoss: 0.000596\n",
      "Train Epoch: 3 [57600/60000 (96%)]\tLoss: 0.001949\n",
      "Epoch 3, Average Loss: 0.01794325792562769\n",
      "Train Epoch: 4 [0/60000 (0%)]\tLoss: 0.005521\n",
      "Train Epoch: 4 [6400/60000 (11%)]\tLoss: 0.000271\n",
      "Train Epoch: 4 [12800/60000 (21%)]\tLoss: 0.006573\n",
      "Train Epoch: 4 [19200/60000 (32%)]\tLoss: 0.075153\n",
      "Train Epoch: 4 [25600/60000 (43%)]\tLoss: 0.001170\n",
      "Train Epoch: 4 [32000/60000 (53%)]\tLoss: 0.002612\n",
      "Train Epoch: 4 [38400/60000 (64%)]\tLoss: 0.010320\n",
      "Train Epoch: 4 [44800/60000 (75%)]\tLoss: 0.016423\n",
      "Train Epoch: 4 [51200/60000 (85%)]\tLoss: 0.028308\n",
      "Train Epoch: 4 [57600/60000 (96%)]\tLoss: 0.000684\n",
      "Epoch 4, Average Loss: 0.017425563759686423\n",
      "Train Epoch: 5 [0/60000 (0%)]\tLoss: 0.001638\n",
      "Train Epoch: 5 [6400/60000 (11%)]\tLoss: 0.001734\n",
      "Train Epoch: 5 [12800/60000 (21%)]\tLoss: 0.005473\n",
      "Train Epoch: 5 [19200/60000 (32%)]\tLoss: 0.003129\n",
      "Train Epoch: 5 [25600/60000 (43%)]\tLoss: 0.002701\n",
      "Train Epoch: 5 [32000/60000 (53%)]\tLoss: 0.012357\n",
      "Train Epoch: 5 [38400/60000 (64%)]\tLoss: 0.000474\n",
      "Train Epoch: 5 [44800/60000 (75%)]\tLoss: 0.000388\n",
      "Train Epoch: 5 [51200/60000 (85%)]\tLoss: 0.000159\n",
      "Train Epoch: 5 [57600/60000 (96%)]\tLoss: 0.008273\n",
      "Epoch 5, Average Loss: 0.015245959496241161\n",
      "\n",
      "Test set: Average loss: 0.1116, Accuracy: 9769/10000 (98%)\n",
      "\n"
     ]
    }
   ],
   "source": [
    "## YOUR CODE HERE ##\n",
    "device = torch.device(\"cuda\" if torch.cuda.is_available() else \"cpu\")\n",
    "model.to(device)\n",
    "num_epochs = 5  # Newly added global definition for num_epochs\n",
    "train_losses = []\n",
    "\n",
    "def train_model(model, train_loader, optimizer, loss_fn):\n",
    "    model.train()\n",
    "    for epoch in range(num_epochs):\n",
    "        running_loss = 0.0\n",
    "        for batch_idx, (data, target) in enumerate(train_loader):\n",
    "            data, target = data.to(device), target.to(device)\n",
    "            optimizer.zero_grad()\n",
    "            output = model(data)\n",
    "            loss = loss_fn(output, target)\n",
    "            loss.backward()\n",
    "            optimizer.step()\n",
    "            running_loss += loss.item()\n",
    "            if batch_idx % 100 == 0:\n",
    "                print(f'Train Epoch: {epoch+1} [{batch_idx * len(data)}/{len(train_loader.dataset)} '\n",
    "                      f'({100. * batch_idx / len(train_loader):.0f}%)]\\tLoss: {loss.item():.6f}')\n",
    "        average_loss = running_loss / len(train_loader)\n",
    "        train_losses.append(average_loss)\n",
    "        print(f'Epoch {epoch+1}, Average Loss: {average_loss}')\n",
    "\n",
    "# Train the model\n",
    "train_model(model, train_loader, optimizer, loss_fn)\n",
    "\n",
    "# Function to test the model\n",
    "def test_model(model, test_loader, loss_fn):\n",
    "    model.eval()\n",
    "    test_loss = 0\n",
    "    correct = 0\n",
    "    with torch.no_grad():\n",
    "        for data, target in test_loader:\n",
    "            data, target = data.to(device), target.to(device)\n",
    "            output = model(data)\n",
    "            test_loss += loss_fn(output, target).item()  # sum up batch loss\n",
    "            pred = output.argmax(dim=1, keepdim=True)  # get the index of the max log-probability\n",
    "            correct += pred.eq(target.view_as(pred)).sum().item()\n",
    "\n",
    "    test_loss /= len(test_loader)\n",
    "    accuracy = 100. * correct / len(test_loader.dataset)\n",
    "    print(f'\\nTest set: Average loss: {test_loss:.4f}, Accuracy: {correct}/{len(test_loader.dataset)} '\n",
    "          f'({accuracy:.0f}%)\\n')\n",
    "    return test_loss, accuracy\n",
    "\n",
    "# Evaluate the model\n",
    "test_loss, accuracy = test_model(model, test_loader, loss_fn)"
   ]
  },
  {
   "cell_type": "markdown",
   "metadata": {},
   "source": [
    "## Running your Neural Network\n",
    "Use whatever method you like to train your neural network, and ensure you record the average loss at each epoch. \n",
    "Don't forget to use `torch.device()` and the `.to()` method for both your model and your data if you are using GPU!\n",
    "\n",
    "If you want to print your loss **during** each epoch, you can use the `enumerate` function and print the loss after a set number of batches. 250 batches works well for most people!"
   ]
  },
  {
   "cell_type": "code",
   "execution_count": 16,
   "metadata": {},
   "outputs": [
    {
     "name": "stdout",
     "output_type": "stream",
     "text": [
      "\n",
      "Test set: Average loss: 0.1116, Accuracy: 9769/10000 (98%)\n",
      "\n"
     ]
    }
   ],
   "source": [
    "## YOUR CODE HERE ##\n",
    "test_loss, accuracy = test_model(model, test_loader, loss_fn)\n"
   ]
  },
  {
   "cell_type": "markdown",
   "metadata": {},
   "source": [
    "Plot the training loss (and validation loss/accuracy, if recorded)."
   ]
  },
  {
   "cell_type": "code",
   "execution_count": 17,
   "metadata": {},
   "outputs": [
    {
     "data": {
      "image/png": "[encoded data removed]",
      "text/plain": [
       "<Figure size 1000x500 with 1 Axes>"
      ]
     },
     "metadata": {},
     "output_type": "display_data"
    }
   ],
   "source": [
    "## YOUR CODE HERE ##\n",
    "plt.figure(figsize=(10,5))\n",
    "plt.plot(range(1, num_epochs+1), train_losses, marker='o', label='Training Loss')\n",
    "plt.xlabel('Epoch')\n",
    "plt.ylabel('Loss')\n",
    "plt.title('Training Loss over Epochs')\n",
    "plt.legend()\n",
    "plt.grid()\n",
    "plt.show()"
   ]
  },
  {
   "cell_type": "markdown",
   "metadata": {},
   "source": [
    "## Testing your model\n",
    "Using the previously created `DataLoader` for the test set, compute the percentage of correct predictions using the highest probability prediction. \n",
    "\n",
    "If your accuracy is over 90%, great work, but see if you can push a bit further! \n",
    "If your accuracy is under 90%, you'll need to make improvements.\n",
    "Go back and check your model architecture, loss function, and optimizer to make sure they're appropriate for an image classification task."
   ]
  },
  {
   "cell_type": "code",
   "execution_count": 18,
   "metadata": {},
   "outputs": [
    {
     "name": "stdout",
     "output_type": "stream",
     "text": [
      "Accuracy on the test dataset: 97.69%\n",
      "Great work! Accuracy is over 90%.\n"
     ]
    }
   ],
   "source": [
    "## YOUR CODE HERE ##\n",
    "model.eval()\n",
    "correct = 0\n",
    "total = 0\n",
    "with torch.no_grad():\n",
    "    for data, target in test_loader:\n",
    "        data, target = data.to(device), target.to(device)\n",
    "        output = model(data)\n",
    "        _, predicted = torch.max(output, 1)\n",
    "        total += target.size(0)\n",
    "        correct += (predicted == target).sum().item()\n",
    "\n",
    "accuracy = 100 * correct / total\n",
    "print(f'Accuracy on the test dataset: {accuracy:.2f}%')\n",
    "\n",
    "if accuracy < 90:\n",
    "    print(\"Accuracy is under 90%, consider making improvements to the model.\")\n",
    "else:\n",
    "    print(\"Great work! Accuracy is over 90%.\")"
   ]
  },
  {
   "cell_type": "markdown",
   "metadata": {},
   "source": [
    "## Improving your model\n",
    "\n",
    "Once your model is done training, try tweaking your hyperparameters and training again below to improve your accuracy on the test set!"
   ]
  },
  {
   "cell_type": "code",
   "execution_count": 19,
   "metadata": {},
   "outputs": [
    {
     "name": "stdout",
     "output_type": "stream",
     "text": [
      "SimpleNN(\n",
      "  (flatten): Flatten(start_dim=1, end_dim=-1)\n",
      "  (fc1): Linear(in_features=784, out_features=256, bias=True)\n",
      "  (fc2): Linear(in_features=256, out_features=128, bias=True)\n",
      "  (fc3): Linear(in_features=128, out_features=10, bias=True)\n",
      ")\n",
      "Train Epoch: 1 [0/60000 (0%)]\tLoss: 2.320976\n",
      "Train Epoch: 1 [12800/60000 (21%)]\tLoss: 0.233564\n",
      "Train Epoch: 1 [25600/60000 (43%)]\tLoss: 0.240516\n",
      "Train Epoch: 1 [38400/60000 (64%)]\tLoss: 0.302421\n",
      "Train Epoch: 1 [51200/60000 (85%)]\tLoss: 0.323366\n",
      "\n",
      "Test set: Average loss: 0.0002, Accuracy: 9462/10000 (95%)\n",
      "\n",
      "Train Epoch: 2 [0/60000 (0%)]\tLoss: 0.240746\n",
      "Train Epoch: 2 [12800/60000 (21%)]\tLoss: 0.237093\n",
      "Train Epoch: 2 [25600/60000 (43%)]\tLoss: 0.204145\n",
      "Train Epoch: 2 [38400/60000 (64%)]\tLoss: 0.133526\n",
      "Train Epoch: 2 [51200/60000 (85%)]\tLoss: 0.062407\n",
      "\n",
      "Test set: Average loss: 0.0001, Accuracy: 9648/10000 (96%)\n",
      "\n",
      "Train Epoch: 3 [0/60000 (0%)]\tLoss: 0.052272\n",
      "Train Epoch: 3 [12800/60000 (21%)]\tLoss: 0.145268\n",
      "Train Epoch: 3 [25600/60000 (43%)]\tLoss: 0.088399\n",
      "Train Epoch: 3 [38400/60000 (64%)]\tLoss: 0.028686\n",
      "Train Epoch: 3 [51200/60000 (85%)]\tLoss: 0.068604\n",
      "\n",
      "Test set: Average loss: 0.0001, Accuracy: 9718/10000 (97%)\n",
      "\n",
      "Train Epoch: 4 [0/60000 (0%)]\tLoss: 0.056136\n",
      "Train Epoch: 4 [12800/60000 (21%)]\tLoss: 0.059014\n",
      "Train Epoch: 4 [25600/60000 (43%)]\tLoss: 0.065265\n",
      "Train Epoch: 4 [38400/60000 (64%)]\tLoss: 0.093420\n",
      "Train Epoch: 4 [51200/60000 (85%)]\tLoss: 0.046057\n",
      "\n",
      "Test set: Average loss: 0.0001, Accuracy: 9746/10000 (97%)\n",
      "\n",
      "Train Epoch: 5 [0/60000 (0%)]\tLoss: 0.079055\n",
      "Train Epoch: 5 [12800/60000 (21%)]\tLoss: 0.042443\n",
      "Train Epoch: 5 [25600/60000 (43%)]\tLoss: 0.051835\n",
      "Train Epoch: 5 [38400/60000 (64%)]\tLoss: 0.027734\n",
      "Train Epoch: 5 [51200/60000 (85%)]\tLoss: 0.041989\n",
      "\n",
      "Test set: Average loss: 0.0001, Accuracy: 9741/10000 (97%)\n",
      "\n",
      "Train Epoch: 6 [0/60000 (0%)]\tLoss: 0.043017\n",
      "Train Epoch: 6 [12800/60000 (21%)]\tLoss: 0.033662\n",
      "Train Epoch: 6 [25600/60000 (43%)]\tLoss: 0.025787\n",
      "Train Epoch: 6 [38400/60000 (64%)]\tLoss: 0.027784\n",
      "Train Epoch: 6 [51200/60000 (85%)]\tLoss: 0.016302\n",
      "\n",
      "Test set: Average loss: 0.0001, Accuracy: 9796/10000 (98%)\n",
      "\n",
      "Train Epoch: 7 [0/60000 (0%)]\tLoss: 0.069217\n",
      "Train Epoch: 7 [12800/60000 (21%)]\tLoss: 0.032207\n",
      "Train Epoch: 7 [25600/60000 (43%)]\tLoss: 0.012549\n",
      "Train Epoch: 7 [38400/60000 (64%)]\tLoss: 0.029133\n",
      "Train Epoch: 7 [51200/60000 (85%)]\tLoss: 0.031452\n",
      "\n",
      "Test set: Average loss: 0.0001, Accuracy: 9793/10000 (98%)\n",
      "\n",
      "Train Epoch: 8 [0/60000 (0%)]\tLoss: 0.017407\n",
      "Train Epoch: 8 [12800/60000 (21%)]\tLoss: 0.010002\n",
      "Train Epoch: 8 [25600/60000 (43%)]\tLoss: 0.022655\n",
      "Train Epoch: 8 [38400/60000 (64%)]\tLoss: 0.014217\n",
      "Train Epoch: 8 [51200/60000 (85%)]\tLoss: 0.019649\n",
      "\n",
      "Test set: Average loss: 0.0001, Accuracy: 9804/10000 (98%)\n",
      "\n",
      "Train Epoch: 9 [0/60000 (0%)]\tLoss: 0.005462\n",
      "Train Epoch: 9 [12800/60000 (21%)]\tLoss: 0.002001\n",
      "Train Epoch: 9 [25600/60000 (43%)]\tLoss: 0.013086\n",
      "Train Epoch: 9 [38400/60000 (64%)]\tLoss: 0.012426\n",
      "Train Epoch: 9 [51200/60000 (85%)]\tLoss: 0.001118\n",
      "\n",
      "Test set: Average loss: 0.0001, Accuracy: 9793/10000 (98%)\n",
      "\n",
      "Train Epoch: 10 [0/60000 (0%)]\tLoss: 0.005668\n",
      "Train Epoch: 10 [12800/60000 (21%)]\tLoss: 0.006194\n",
      "Train Epoch: 10 [25600/60000 (43%)]\tLoss: 0.003756\n",
      "Train Epoch: 10 [38400/60000 (64%)]\tLoss: 0.010953\n",
      "Train Epoch: 10 [51200/60000 (85%)]\tLoss: 0.010293\n",
      "\n",
      "Test set: Average loss: 0.0001, Accuracy: 9791/10000 (98%)\n",
      "\n"
     ]
    }
   ],
   "source": [
    "## YOUR CODE HERE ##\n",
    "import torch\n",
    "from torchvision import datasets, transforms\n",
    "from torch.utils.data import DataLoader\n",
    "import torch.nn as nn\n",
    "import torch.nn.functional as F\n",
    "import torch.optim as optim\n",
    "import matplotlib.pyplot as plt\n",
    "import numpy as np\n",
    "\n",
    "# Define the neural network architecture\n",
    "class SimpleNN(nn.Module):\n",
    "    def __init__(self):\n",
    "        super(SimpleNN, self).__init__()\n",
    "        self.flatten = nn.Flatten()\n",
    "        self.fc1 = nn.Linear(28*28, 256)  # Increased number of neurons\n",
    "        self.fc2 = nn.Linear(256, 128)    # Increased number of neurons\n",
    "        self.fc3 = nn.Linear(128, 10)\n",
    "\n",
    "    def forward(self, x):\n",
    "        x = self.flatten(x)\n",
    "        x = F.relu(self.fc1(x))\n",
    "        x = F.relu(self.fc2(x))\n",
    "        x = self.fc3(x)\n",
    "        return F.log_softmax(x, dim=1)\n",
    "\n",
    "# Instantiate the model\n",
    "model = SimpleNN()\n",
    "\n",
    "# Specify a loss function\n",
    "loss_fn = nn.NLLLoss()\n",
    "\n",
    "# Specify an optimizer with a different learning rate\n",
    "optimizer = optim.Adam(model.parameters(), lr=0.0005)\n",
    "\n",
    "# Print the model architecture\n",
    "print(model)\n",
    "\n",
    "# Specify your transforms as a list\n",
    "transform = transforms.Compose([\n",
    "    transforms.ToTensor(),\n",
    "    transforms.Normalize((0.1307,), (0.3081,))  # Normalization for MNIST dataset\n",
    "])\n",
    "\n",
    "# Create the training set and define the training DataLoader\n",
    "train_dataset = datasets.MNIST(root='data', train=True, download=True, transform=transform)\n",
    "train_loader = DataLoader(dataset=train_dataset, batch_size=128, shuffle=True)  # Increased batch size\n",
    "\n",
    "# Create the test set and define the test DataLoader\n",
    "test_dataset = datasets.MNIST(root='data', train=False, download=True, transform=transform)\n",
    "test_loader = DataLoader(dataset=test_dataset, batch_size=1000, shuffle=False)\n",
    "\n",
    "# Function to train the model\n",
    "def train(model, device, train_loader, optimizer, epoch):\n",
    "    model.train()\n",
    "    for batch_idx, (data, target) in enumerate(train_loader):\n",
    "        data, target = data.to(device), target.to(device)\n",
    "        optimizer.zero_grad()\n",
    "        output = model(data)\n",
    "        loss = loss_fn(output, target)\n",
    "        loss.backward()\n",
    "        optimizer.step()\n",
    "        if batch_idx % 100 == 0:\n",
    "            print(f'Train Epoch: {epoch} [{batch_idx * len(data)}/{len(train_loader.dataset)} ({100. * batch_idx / len(train_loader):.0f}%)]\\tLoss: {loss.item():.6f}')\n",
    "\n",
    "# Function to test the model\n",
    "def test(model, device, test_loader):\n",
    "    model.eval()\n",
    "    test_loss = 0\n",
    "    correct = 0\n",
    "    with torch.no_grad():\n",
    "        for data, target in test_loader:\n",
    "            data, target = data.to(device), target.to(device)\n",
    "            output = model(data)\n",
    "            test_loss += loss_fn(output, target).item()  # Sum up batch loss\n",
    "            pred = output.argmax(dim=1, keepdim=True)  # Get the index of the max log-probability\n",
    "            correct += pred.eq(target.view_as(pred)).sum().item()\n",
    "\n",
    "    test_loss /= len(test_loader.dataset)\n",
    "    print(f'\\nTest set: Average loss: {test_loss:.4f}, Accuracy: {correct}/{len(test_loader.dataset)} ({100. * correct / len(test_loader.dataset):.0f}%)\\n')\n",
    "\n",
    "# Use GPU if available\n",
    "device = torch.device(\"cuda\" if torch.cuda.is_available() else \"cpu\")\n",
    "model.to(device)\n",
    "\n",
    "# Training and testing the model with updated hyperparameters\n",
    "num_epochs = 10  # Increased number of epochs\n",
    "for epoch in range(1, num_epochs + 1):\n",
    "    train(model, device, train_loader, optimizer, epoch)\n",
    "    test(model, device, test_loader)"
   ]
  },
  {
   "cell_type": "markdown",
   "metadata": {},
   "source": [
    "## Saving your model\n",
    "Using `torch.save`, save your model for future loading."
   ]
  },
  {
   "cell_type": "code",
   "execution_count": 20,
   "metadata": {},
   "outputs": [
    {
     "name": "stdout",
     "output_type": "stream",
     "text": [
      "Model saved to simple_nn_model.pth\n"
     ]
    }
   ],
   "source": [
    "## YOUR CODE HERE ##\n",
    "torch.save(model.state_dict(), 'simple_nn_model.pth')\n",
    "print(\"Model saved to simple_nn_model.pth\")"
   ]
  },
  {
   "cell_type": "code",
   "execution_count": null,
   "metadata": {},
   "outputs": [],
   "source": []
  },
  {
   "cell_type": "code",
   "execution_count": null,
   "metadata": {},
   "outputs": [],
   "source": []
  },
  {
   "cell_type": "code",
   "execution_count": null,
   "metadata": {},
   "outputs": [],
   "source": []
  },
  {
   "cell_type": "code",
   "execution_count": null,
   "metadata": {},
   "outputs": [],
   "source": []
  },
  {
   "cell_type": "code",
   "execution_count": null,
   "metadata": {},
   "outputs": [],
   "source": []
  },
  {
   "cell_type": "code",
   "execution_count": null,
   "metadata": {},
   "outputs": [],
   "source": []
  },
  {
   "cell_type": "code",
   "execution_count": null,
   "metadata": {},
   "outputs": [],
   "source": []
  },
  {
   "cell_type": "code",
   "execution_count": null,
   "metadata": {},
   "outputs": [],
   "source": []
  }
 ],
 "metadata": {
  "kernelspec": {
   "display_name": "Python 3 (ipykernel)",
   "language": "python",
   "name": "python3"
  },
  "language_info": {
   "codemirror_mode": {
    "name": "ipython",
    "version": 3
   },
   "file_extension": ".py",
   "mimetype": "text/x-python",
   "name": "python",
   "nbconvert_exporter": "python",
   "pygments_lexer": "ipython3",
   "version": "3.11.4"
  }
 },
 "nbformat": 4,
 "nbformat_minor": 4
}
